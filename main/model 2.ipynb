{
 "cells": [
  {
   "cell_type": "code",
   "execution_count": 2,
   "metadata": {},
   "outputs": [],
   "source": [
    "# Imports and data reading from files\n",
    "import pandas as pd\n",
    "from collections import Counter\n",
    "\n",
    "data = pd.read_csv('../../data/games/2021-22.csv')\n",
    "players = pd.read_csv('../../data/players/2021-22.csv')\n",
    "teams = pd.read_csv('../../data/teams.csv')\n",
    "\n",
    "# Splitting raw teams data into east and west conferences\n",
    "conferences = { 'east' : list(teams[teams['location'] == 'east']['team']), 'west' : list(teams[teams['location'] == 'west' ]['team']) }"
   ]
  },
  {
   "cell_type": "code",
   "execution_count": 3,
   "metadata": {},
   "outputs": [],
   "source": [
    "winning_teams = []\n",
    "losing_teams = []\n",
    "\n",
    "# Looping through all the games\n",
    "for idx, game in data.iterrows():\n",
    "    \n",
    "    # Getting team names from data\n",
    "    team1 = game['Visitor/Neutral']\n",
    "    team2 = game['Home/Neutral']\n",
    "    \n",
    "    # Getting scores from data\n",
    "    score1 = game['PTS']\n",
    "    score2 = game['PTS.1']\n",
    "\n",
    "    # If team1 won, add team1 to winning teams, and team 2 to losing teams\n",
    "    if score1 > score2:\n",
    "        winning_teams.append(team1)\n",
    "        losing_teams.append(team2)\n",
    "    \n",
    "    # If team2 won, add team2 to winning teams, and team 1 to losing teams\n",
    "    if score2 > score1:\n",
    "        winning_teams.append(team2)\n",
    "        losing_teams.append(team1)\n",
    "        \n",
    "# Initialising key-value data structure for amount of team wins\n",
    "team_rankings = {\"west\":{},\"east\":{}}\n",
    "\n",
    "# Counting instances of teams in winning and losing teams\n",
    "wins = Counter(winning_teams)\n",
    "losses = Counter(losing_teams)\n",
    "\n",
    "# Populating data structure with win/loss values for Western conference teams\n",
    "for team in conferences[\"west\"]:\n",
    "    team_rankings[\"west\"][team] = {}\n",
    "    team_rankings[\"west\"][team][\"Wins\"] = wins[team]\n",
    "    team_rankings[\"west\"][team][\"Losses\"] = losses[team]\n",
    "    team_rankings[\"west\"][team][\"W-L ratio\"] = wins[team] / (wins[team]+losses[team])\n",
    "\n",
    "# Populating data structure with win/loss values for Eastern conference teams\n",
    "for team in conferences[\"east\"]:\n",
    "    team_rankings[\"east\"][team] = {}\n",
    "    team_rankings[\"east\"][team][\"Wins\"] = wins[team]\n",
    "    team_rankings[\"east\"][team][\"Losses\"] = losses[team]\n",
    "    team_rankings[\"east\"][team][\"W-L ratio\"] = wins[team] / (wins[team]+losses[team])\n",
    "\n",
    "# Creating matrices from data structure\n",
    "team_rankings_west_df = pd.DataFrame.from_dict(team_rankings[\"west\"], orient='index').sort_values(\"Wins\", ascending=False)\n",
    "team_rankings_east_df = pd.DataFrame.from_dict(team_rankings[\"east\"], orient='index').sort_values(\"Wins\", ascending=False)"
   ]
  },
  {
   "cell_type": "code",
   "execution_count": null,
   "metadata": {},
   "outputs": [],
   "source": [
    "# Outputting Western conferences team rankings\n",
    "team_rankings_west_df"
   ]
  },
  {
   "cell_type": "code",
   "execution_count": null,
   "metadata": {},
   "outputs": [],
   "source": [
    "# Outputting Eastern conferences team rankings\n",
    "team_rankings_east_df"
   ]
  },
  {
   "cell_type": "code",
   "execution_count": null,
   "metadata": {},
   "outputs": [],
   "source": [
    "# Finding advancing teams (more than or equal to 20 wins)\n",
    "advancing_teams_east = list(team_rankings_east_df[team_rankings_east_df[\"Wins\"] >= 20].index)\n",
    "advancing_teams_west = list(team_rankings_west_df[team_rankings_west_df[\"Wins\"] >= 20].index)\n",
    "\n",
    "# Getting all players eligible for the MVP\n",
    "mvp_candidates = players[(players[\"TEAM\"].isin(advancing_teams_west)) | (players[\"TEAM\"].isin(advancing_teams_east))]\n",
    "\n",
    "#Initialising fantasy points array\n",
    "fantasy_points = []\n",
    "\n",
    "# Calculating fantasy points for each eligible player\n",
    "for idx, player in mvp_candidates.iterrows():\n",
    "    fantasy_points.append(3*player[\"3PM\"]+2*(player[\"FGM\"]-player[\"3PM\"])+player[\"FTM\"]+1.2*player[\"REB\"]+1.5*player[\"AST\"]+2*player[\"STL\"]+2*player[\"BLK\"]-player[\"TO\"])\n",
    "\n",
    "# Adding fantasy points row to MVP candidates matrix\n",
    "mvp_candidates[\"Fantasy Points\"] = fantasy_points\n",
    "\n",
    "# Ordering MVP candidates by Fantasy points to determine recipient\n",
    "mvp_candidates = mvp_candidates.sort_values(by=\"Fantasy Points\", ascending=False)\n",
    "\n",
    "# Outputting MVP candidates matrix\n",
    "mvp_candidates"
   ]
  },
  {
   "cell_type": "code",
   "execution_count": 9,
   "metadata": {},
   "outputs": [
    {
     "name": "stdout",
     "output_type": "stream",
     "text": [
      "Season MVP from wins >= 20 method is Nikola Jokic\n"
     ]
    }
   ],
   "source": [
    "# Outputting MVP\n",
    "print(\"Season MVP from wins >= 20 method is \" + list(mvp_candidates.head(1)[\"PLAYER\"])[0])"
   ]
  }
 ],
 "metadata": {
  "kernelspec": {
   "display_name": "Python 3",
   "language": "python",
   "name": "python3"
  },
  "language_info": {
   "codemirror_mode": {
    "name": "ipython",
    "version": 3
   },
   "file_extension": ".py",
   "mimetype": "text/x-python",
   "name": "python",
   "nbconvert_exporter": "python",
   "pygments_lexer": "ipython3",
   "version": "3.8.10 (default, Jun 22 2022, 20:18:18) \n[GCC 9.4.0]"
  },
  "orig_nbformat": 4,
  "vscode": {
   "interpreter": {
    "hash": "916dbcbb3f70747c44a77c7bcd40155683ae19c65e1c03b4aa3499c5328201f1"
   }
  }
 },
 "nbformat": 4,
 "nbformat_minor": 2
}
