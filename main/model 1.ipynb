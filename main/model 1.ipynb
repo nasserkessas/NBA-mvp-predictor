{
 "cells": [
  {
   "cell_type": "code",
   "execution_count": 2,
   "metadata": {},
   "outputs": [],
   "source": [
    "# Imports and data reading from files\n",
    "import pandas as pd\n",
    "\n",
    "data = pd.read_csv('../../data/games/2021-22.csv')\n",
    "players = pd.read_csv('../../data/players/2021-22.csv')\n",
    "teams = pd.read_csv('../../data/teams.csv')\n",
    "\n",
    "# Splitting raw teams data into east and west conferences\n",
    "conferences = { \n",
    "    'east' : list(teams[teams['location'] == 'east']['team']),\n",
    "    'west' : list(teams[teams['location'] == 'west' ]['team'])\n",
    "}"
   ]
  },
  {
   "cell_type": "code",
   "execution_count": 3,
   "metadata": {},
   "outputs": [],
   "source": [
    "# Initialising dominance matrices\n",
    "dominance_matrix_west_1 = pd.DataFrame([0][0], conferences[\"west\"], columns=conferences[\"west\"])\n",
    "dominance_matrix_east_1 = pd.DataFrame([0][0], conferences[\"east\"], columns=conferences[\"east\"])"
   ]
  },
  {
   "cell_type": "code",
   "execution_count": 4,
   "metadata": {},
   "outputs": [],
   "source": [
    "wins_east = {}\n",
    "\n",
    "# Looping through all games\n",
    "for idx, line in data.iterrows():\n",
    "    \n",
    "    # Getting team names from data\n",
    "    team1 = line['Visitor/Neutral']\n",
    "    team2 = line['Home/Neutral']\n",
    "    \n",
    "    # Checking if both teams are in the Eastern conference, if not, skip this game\n",
    "    if team1 not in conferences[\"east\"]: continue\n",
    "    if team2 not in conferences[\"east\"]: continue\n",
    "    \n",
    "    # Getting scores from data\n",
    "    score1 = line['PTS']\n",
    "    score2 = line['PTS.1']\n",
    "    \n",
    "    # Initialising key-value data structure with team1 and team2 \n",
    "    # to store point margins if not already there\n",
    "    if team1 not in wins_east: wins_east[team1] = {}\n",
    "    if team2 not in wins_east: wins_east[team2] = {}\n",
    "    if team2 not in wins_east[team1]: wins_east[team1][team2] = 0\n",
    "    if team1 not in wins_east[team2]: wins_east[team2][team1] = 0\n",
    "    \n",
    "    # Adding point margin to winning team's score in data structure\n",
    "    if score1 > score2: wins_east[team1][team2] += score1 - score2\n",
    "    if score2 > score1: wins_east[team2][team1] += score2 - score1\n",
    "    \n",
    "    ### Old matrix method (Model 1a) \n",
    "    # if score1 > score2: wins_east[team1][team2] += 1\n",
    "    # if score2 > score1: wins_east[team2][team1] += 1\n",
    "\n",
    "\n",
    "\n",
    "wins_west = {}\n",
    "\n",
    "# Looping through all games\n",
    "for idx, line in data.iterrows():\n",
    "    \n",
    "    # Getting team names from data\n",
    "    team1 = line['Visitor/Neutral']\n",
    "    team2 = line['Home/Neutral']\n",
    "    \n",
    "    # Checking if both teams are in the Western conference, if not, skip this game\n",
    "    if team1 not in conferences[\"west\"]: continue\n",
    "    if team2 not in conferences[\"west\"]: continue\n",
    "    \n",
    "    # Getting scores from data\n",
    "    score1 = line['PTS']\n",
    "    score2 = line['PTS.1']\n",
    "    \n",
    "    # Initialising key-value data structure with team1 and team2\n",
    "    # to store point margins if not already there\n",
    "    if team1 not in wins_west: wins_west[team1] = {}\n",
    "    if team2 not in wins_west: wins_west[team2] = {}\n",
    "    if team2 not in wins_west[team1]: wins_west[team1][team2] = 0\n",
    "    if team1 not in wins_west[team2]: wins_west[team2][team1] = 0\n",
    "    \n",
    "    # Adding point margin to winning team's score in data structure\n",
    "    if score1 > score2: wins_west[team1][team2] += score1 - score2\n",
    "    if score2 > score1: wins_west[team2][team1] += score2 - score1\n",
    "    \n",
    "    ### Old matrix method (Model 1a) \n",
    "    # if score1 > score2: wins_east[team1][team2] += 1\n",
    "    # if score2 > score1: wins_east[team2][team1] += 1"
   ]
  },
  {
   "cell_type": "code",
   "execution_count": 5,
   "metadata": {},
   "outputs": [],
   "source": [
    "# Setting weighting parameters for dominance vectors\n",
    "v2_weight=0.1\n",
    "v3_weight=0.01"
   ]
  },
  {
   "cell_type": "code",
   "execution_count": null,
   "metadata": {},
   "outputs": [],
   "source": [
    "# Looping through earlier data structure for Eastern conference\n",
    "for team1 in wins_east:\n",
    "    for team2 in wins_east[team1]:\n",
    "\n",
    "        # If team1 has a bigger point margin overall than team2\n",
    "        if wins_east[team1][team2] > wins_east[team2][team1]:\n",
    "\n",
    "            # Populating dominance matrix\n",
    "            dominance_matrix_east_1.at[team1, team2] = 1\n",
    "            dominance_matrix_east_1.at[team2, team1] = 0\n",
    "        \n",
    "        # If team1 has a smaller point margin overall than team2\n",
    "        elif wins_east[team1][team2] < wins_east[team2][team1]:\n",
    "            \n",
    "            # Populating dominance matrix\n",
    "            dominance_matrix_east_1.at[team1, team2] = 0\n",
    "            dominance_matrix_east_1.at[team2, team1] = 1\n",
    "        \n",
    "        # If team1 has the same point margin overall as team2\n",
    "        elif wins_east[team1][team2] == wins_east[team2][team1]:\n",
    "\n",
    "            # Populating dominance matrix\n",
    "            dominance_matrix_east_1.at[team1, team2] = 0.5\n",
    "            dominance_matrix_east_1.at[team2, team1] = 0.5\n",
    "            \n",
    "# Outputting dominance matrix (east)\n",
    "dominance_matrix_east_1\n"
   ]
  },
  {
   "cell_type": "code",
   "execution_count": null,
   "metadata": {},
   "outputs": [],
   "source": [
    "# Squaring and Cubing dominance matrix for second and third order dominance matrices with .dot() function\n",
    "dominance_matrix_east_2 = dominance_matrix_east_1.dot(dominance_matrix_east_1)\n",
    "dominance_matrix_east_3 = dominance_matrix_east_2.dot(dominance_matrix_east_1)\n",
    "\n",
    "# Initialing matrix for dominace vectors\n",
    "dominance_vector_matrix_east = pd.DataFrame()\n",
    "\n",
    "# Adding rows of dominance matrices and populating dominace vector matrix\n",
    "dominance_vector_matrix_east[\"v1\"]=dominance_matrix_east_1.sum(axis=1)\n",
    "dominance_vector_matrix_east[\"v2\"]=dominance_matrix_east_2.sum(axis=1)\n",
    "dominance_vector_matrix_east[\"v3\"]=dominance_matrix_east_3.sum(axis=1)\n",
    "\n",
    "# Calculating overall ranking score from weighting parameters and adding column to dominace vector matrix\n",
    "dominance_vector_matrix_east[\"score\"] = dominance_matrix_east_1.sum(axis=1) + v2_weight*dominance_matrix_east_2.sum(axis=1) + v3_weight*dominance_matrix_east_3.sum(axis=1)\n",
    "\n",
    "# Sorting teams by score to determine ranking\n",
    "dominance_vector_matrix_east = dominance_vector_matrix_east.sort_values(\"score\", ascending=False)\n",
    "\n",
    "# Outputting ranking (east)\n",
    "dominance_vector_matrix_east"
   ]
  },
  {
   "cell_type": "code",
   "execution_count": null,
   "metadata": {},
   "outputs": [],
   "source": [
    "# Looping through earlier data structure for Western conference\n",
    "for team1 in wins_west:\n",
    "    for team2 in wins_west[team1]:\n",
    "\n",
    "        # If team1 has a bigger point margin overall than team2\n",
    "        if wins_west[team1][team2] > wins_west[team2][team1]:\n",
    "\n",
    "            # Populating dominance matrix\n",
    "            dominance_matrix_west_1.at[team1, team2] = 1\n",
    "            dominance_matrix_west_1.at[team2, team1] = 0\n",
    "        \n",
    "        # If team1 has a smaller point margin overall than team2\n",
    "        elif wins_west[team1][team2] < wins_west[team2][team1]:\n",
    "            \n",
    "            # Populating dominance matrix\n",
    "            dominance_matrix_west_1.at[team1, team2] = 0\n",
    "            dominance_matrix_west_1.at[team2, team1] = 1\n",
    "        \n",
    "        # If team1 has the same point margin overall as team2\n",
    "        elif wins_west[team1][team2] == wins_west[team2][team1]:\n",
    "\n",
    "            # Populating dominance matrix\n",
    "            dominance_matrix_west_1.at[team1, team2] = 0.5\n",
    "            dominance_matrix_west_1.at[team2, team1] = 0.5\n",
    "\n",
    "# Outputting dominance matrix (west)\n",
    "dominance_matrix_west_1"
   ]
  },
  {
   "cell_type": "code",
   "execution_count": null,
   "metadata": {},
   "outputs": [],
   "source": [
    "# Squaring and Cubing dominance matrix for second and third order dominance matrices with .dot() function\n",
    "dominance_matrix_west_2 = dominance_matrix_west_1.dot(dominance_matrix_west_1)\n",
    "dominance_matrix_west_3 = dominance_matrix_west_2.dot(dominance_matrix_west_1)\n",
    "\n",
    "# Initialing matrix for dominace vectors\n",
    "dominance_vector_matrix_west = pd.DataFrame()\n",
    "\n",
    "# Adding rows of dominance matrices and populating dominace vector matrix\n",
    "dominance_vector_matrix_west[\"v1\"] = dominance_matrix_west_1.sum(axis=1)\n",
    "dominance_vector_matrix_west[\"v2\"] = dominance_matrix_west_2.sum(axis=1)\n",
    "dominance_vector_matrix_west[\"v3\"] = dominance_matrix_west_3.sum(axis=1)\n",
    "\n",
    "# Calculating overall ranking score from weighting parameters and adding column to dominace vector matrix\n",
    "dominance_vector_matrix_west[\"score\"] = dominance_matrix_west_1.sum(axis=1) + v2_weight*dominance_matrix_west_2.sum(axis=1) + v3_weight*dominance_matrix_west_3.sum(axis=1)\n",
    "\n",
    "# Sorting teams by score to determine ranking\n",
    "dominance_vector_matrix_west = dominance_vector_matrix_west.sort_values(\"score\", ascending=False)\n",
    "\n",
    "# Outputting ranking (west)\n",
    "dominance_vector_matrix_west"
   ]
  },
  {
   "cell_type": "code",
   "execution_count": null,
   "metadata": {},
   "outputs": [],
   "source": [
    "##### STOP HERE AS CORRECT TEAM IS NOT INCLUDED #####\n",
    "\n",
    "\n",
    "# Finding players in the teams with a seed greater than or equal to 3\n",
    "mvp_candidates = players[(players[\"TEAM\"].isin(list(dominance_vector_matrix_west.head(3).index)) | players[\"TEAM\"].isin(list(dominance_vector_matrix_east.head(3).index)))]\n",
    "\n",
    "#Initialising fantasy points array\n",
    "fantasy_points = []\n",
    "\n",
    "# Calculating fantasy points for each eligible player\n",
    "for idx, player in mvp_candidates.iterrows():\n",
    "    fantasy_points.append(3*player[\"3PM\"]+2*(player[\"FGM\"]-player[\"3PM\"])+player[\"FTM\"]+1.2*player[\"REB\"]+1.5*player[\"AST\"]+2*player[\"STL\"]+2*player[\"BLK\"]-player[\"TO\"])\n",
    "\n",
    "# Adding fantasy points row to MVP candidates matrix\n",
    "mvp_candidates[\"Fantasy Points\"] = fantasy_points\n",
    "\n",
    "# Ordering MVP candidates by Fantasy points to determine recipient\n",
    "mvp_candidates = mvp_candidates.sort_values(by=\"Fantasy Points\", ascending=False)\n",
    "\n",
    "# Outputting MVP candidates matrix\n",
    "mvp_candidates"
   ]
  },
  {
   "cell_type": "code",
   "execution_count": 11,
   "metadata": {},
   "outputs": [
    {
     "name": "stdout",
     "output_type": "stream",
     "text": [
      "Season MVP from seed <= 3 is Kevin Durant\n"
     ]
    }
   ],
   "source": [
    "# Outputting MVP\n",
    "print(\"Season MVP from seed <= 3 is \" + list(mvp_candidates.head(1)[\"PLAYER\"])[0])"
   ]
  }
 ],
 "metadata": {
  "kernelspec": {
   "display_name": "Python 3",
   "language": "python",
   "name": "python3"
  },
  "language_info": {
   "codemirror_mode": {
    "name": "ipython",
    "version": 3
   },
   "file_extension": ".py",
   "mimetype": "text/x-python",
   "name": "python",
   "nbconvert_exporter": "python",
   "pygments_lexer": "ipython3",
   "version": "3.8.10 (default, Jun 22 2022, 20:18:18) \n[GCC 9.4.0]"
  },
  "orig_nbformat": 4,
  "vscode": {
   "interpreter": {
    "hash": "916dbcbb3f70747c44a77c7bcd40155683ae19c65e1c03b4aa3499c5328201f1"
   }
  }
 },
 "nbformat": 4,
 "nbformat_minor": 2
}
